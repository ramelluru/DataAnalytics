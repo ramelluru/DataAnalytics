{
 "cells": [
  {
   "cell_type": "code",
   "execution_count": 14,
   "id": "5adb3702",
   "metadata": {},
   "outputs": [],
   "source": [
    "# Importing Libraries Pandas,Sklearn,Numpy\n",
    "import pandas as pd\n",
    "import numpy as np\n",
    "from sklearn.decomposition import PCA\n",
    "from sklearn.preprocessing import StandardScaler\n",
    "from sklearn.cluster import KMeans\n",
    "from sklearn.metrics import silhouette_score\n",
    "from sklearn.metrics import adjusted_rand_score"
   ]
  },
  {
   "cell_type": "code",
   "execution_count": 15,
   "id": "374acf03",
   "metadata": {},
   "outputs": [],
   "source": [
    "# Partionting data sets that will be used for the further implements\n",
    "df=pd.read_csv(\"iris.csv\",header=None)\n",
    "data=df.iloc[:,0:-1].values # Created dataset with all the features except labels\n",
    "data_nm=StandardScaler().fit_transform(data)## Standardizing the data\n",
    "gt=df.iloc[:,4].values # created data set with labels\n",
    "gt1 = pd.factorize(gt)[0]"
   ]
  },
  {
   "cell_type": "code",
   "execution_count": 16,
   "id": "79112b00",
   "metadata": {},
   "outputs": [
    {
     "name": "stdout",
     "output_type": "stream",
     "text": [
      "Question 2a\n",
      "Principal components: 1\n",
      "Siloutte Score: 0.6754183875905297\n",
      "Principal components: 2\n",
      "Siloutte Score: 0.5091683341538229\n",
      "Principal components: 3\n",
      "Siloutte Score: 0.46613062910381436\n",
      "Principal components: 4\n",
      "Siloutte Score: 0.4630420362927049\n",
      "The highest Siloutte Score received is: 0.6754183875905297\n"
     ]
    }
   ],
   "source": [
    "# The Siloutte Score is a measure that is used to evaluate how good a clustering technique performed.\n",
    "# Finding Siloutte Score with Standardized data\n",
    "print(\"Question 2a\")\n",
    "# Individual Number of components that needs to be used for clustering\n",
    "components = [1,2,3,4] \n",
    "score_list=[] \n",
    "for i in range(4): \n",
    "    ## Inserting number of components as per list\n",
    "    pca=PCA(n_components=components[i]) \n",
    "    pri1=pca.fit_transform(data_nm) \n",
    "    k=KMeans(n_clusters=3) \n",
    "    label1 = k.fit_predict(pri1) \n",
    "    sc1=silhouette_score(pri1,label1 ) \n",
    "    score_list.append(sc1)  ## Storing all the scores in the list\n",
    "    print(\"Principal components:\",components[i])\n",
    "    print(\"Siloutte Score:\",sc1) \n",
    "\n",
    "sort=np.sort(score_list) # Finding the highest score in the list\n",
    "print(\"The highest Siloutte Score received is:\",sort[3])"
   ]
  },
  {
   "cell_type": "code",
   "execution_count": 17,
   "id": "d21cac23",
   "metadata": {},
   "outputs": [
    {
     "name": "stdout",
     "output_type": "stream",
     "text": [
      "Principal components: 1\n",
      "Siloutte Score of Raw data/Unstandardized: 0.6770761192800118\n",
      "Principal components: 2\n",
      "Siloutte Score of Raw data/Unstandardized: 0.5976764219547989\n",
      "Principal components: 3\n",
      "Siloutte Score of Raw data/Unstandardized: 0.5630437008750581\n",
      "Principal components: 4\n",
      "Siloutte Score of Raw data/Unstandardized: 0.5528190123564098\n",
      "The highest Siloutte Score received is: 0.6770761192800118\n"
     ]
    }
   ],
   "source": [
    "# Finding Siloutte Score with Non-Standardized data\n",
    "components = [1,2,3,4] \n",
    "score_list=[] \n",
    "for i in range(4): \n",
    "    pca=PCA(n_components=components[i]) \n",
    "    pri1=pca.fit_transform(data) \n",
    "    k=KMeans(n_clusters=3) \n",
    "    label1 = k.fit_predict(pri1) \n",
    "    sc1=silhouette_score(pri1,label1 ) \n",
    "    score_list.append(sc1) ## Storing all the scores in the list\n",
    "    print(\"Principal components:\",components[i])\n",
    "    print(\"Siloutte Score of Raw data/Unstandardized:\",sc1) \n",
    "\n",
    "sort=np.sort(score_list) ## Finding the highest score in the list\n",
    "print(\"The highest Siloutte Score received is:\",sort[3])"
   ]
  },
  {
   "cell_type": "code",
   "execution_count": 18,
   "id": "0739cde7",
   "metadata": {},
   "outputs": [
    {
     "name": "stdout",
     "output_type": "stream",
     "text": [
      "Question 2b\n",
      "Principal components: 1\n",
      "Average Rand Index: 0.8015498244339508\n",
      "Principal components: 2\n",
      "Average Rand Index: 0.6011286543750637\n",
      "Principal components: 3\n",
      "Average Rand Index: 0.6201351808870379\n",
      "Principal components: 4\n",
      "Average Rand Index: 0.6201351808870379\n",
      "The highest Average Rand Index received is: 0.8015498244339508\n"
     ]
    }
   ],
   "source": [
    "# The Rand index is a metric for comparing the similarity of two data clusters.\n",
    "# Finding Adjusted Rand Index  with Standardized data\n",
    "print(\"Question 2b\")\n",
    "# Individual Number of components that needs to be used for clustering\n",
    "components = [1,2,3,4] \n",
    "score_rand_list=[] \n",
    "for i in range(4): \n",
    "    pca=PCA(n_components=components[i]) \n",
    "    pri1=pca.fit_transform(data_nm) \n",
    "    k=KMeans(n_clusters=3) \n",
    "    ## We have obtained number of clusters mentioned in the question\n",
    "    label1 = k.fit_predict(pri1) \n",
    "    sc2=adjusted_rand_score(gt,label1) \n",
    "    score_rand_list.append(sc2) \n",
    "    print(\"Principal components:\",components[i])\n",
    "    print(\"Average Rand Index:\",sc2)  \n",
    "sort=np.sort(score_rand_list) \n",
    "print(\"The highest Average Rand Index received is:\",sort[3])"
   ]
  },
  {
   "cell_type": "code",
   "execution_count": 19,
   "id": "51b4879b",
   "metadata": {},
   "outputs": [
    {
     "name": "stdout",
     "output_type": "stream",
     "text": [
      "Principal components: 1\n",
      "Average Rand Index for unstandardized data: 0.7726314170414115\n",
      "Principal components: 2\n",
      "Average Rand Index for unstandardized data: 0.7163421126838476\n",
      "Principal components: 3\n",
      "Average Rand Index for unstandardized data: 0.7302382722834697\n",
      "Principal components: 4\n",
      "Average Rand Index for unstandardized data: 0.7302382722834697\n",
      "The highest Average Rand Index is: 0.7726314170414115\n"
     ]
    }
   ],
   "source": [
    "# Finding Adjusted Rand Index  with Non-Standardized data\n",
    "score_rand_list=[] \n",
    "for i in range(4): \n",
    "    pca=PCA(n_components=components[i]) \n",
    "    pri1=pca.fit_transform(data) \n",
    "    k=KMeans(n_clusters=3) \n",
    "    label1 = k.fit_predict(pri1) \n",
    "    sc2=adjusted_rand_score(gt1,label1) \n",
    "    score_rand_list.append(sc2) \n",
    "    print(\"Principal components:\",components[i])\n",
    "    print(\"Average Rand Index for unstandardized data:\",sc2)  \n",
    "sort=np.sort(score_rand_list) \n",
    "print(\"The highest Average Rand Index is:\",sort[3])"
   ]
  },
  {
   "cell_type": "markdown",
   "id": "7bf79f2b",
   "metadata": {},
   "source": [
    "# \n",
    "## After the keen observation of Siloutte Score and Average rand Index is high when the number of principal components is \"1\" gives the best clustering result."
   ]
  },
  {
   "cell_type": "code",
   "execution_count": null,
   "id": "7537fc18",
   "metadata": {},
   "outputs": [],
   "source": []
  }
 ],
 "metadata": {
  "kernelspec": {
   "display_name": "Python 3 (ipykernel)",
   "language": "python",
   "name": "python3"
  },
  "language_info": {
   "codemirror_mode": {
    "name": "ipython",
    "version": 3
   },
   "file_extension": ".py",
   "mimetype": "text/x-python",
   "name": "python",
   "nbconvert_exporter": "python",
   "pygments_lexer": "ipython3",
   "version": "3.9.7"
  }
 },
 "nbformat": 4,
 "nbformat_minor": 5
}
