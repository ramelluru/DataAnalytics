{
  "cells": [
    {
      "cell_type": "code",
      "execution_count": 3,
      "id": "2ecf2d9a",
      "metadata": {
        "id": "2ecf2d9a"
      },
      "outputs": [],
      "source": [
        "# Importing libraries\n",
        "import pandas as pd\n",
        "import numpy as np\n",
        "import math\n",
        "from sklearn.preprocessing import MinMaxScaler\n",
        "import matplotlib.pyplot as plt\n",
        "from sklearn.model_selection import train_test_split\n",
        "import tensorflow as tf\n",
        "from tensorflow.keras.models import Sequential\n",
        "from keras.layers import LSTM\n",
        "from keras.layers import Dense\n",
        "from keras.models import Sequential\n",
        "from sklearn.metrics import mean_squared_error"
      ]
    },
    {
      "cell_type": "code",
      "execution_count": 4,
      "id": "55ad3f9f",
      "metadata": {
        "colab": {
          "base_uri": "https://localhost:8080/",
          "height": 295
        },
        "id": "55ad3f9f",
        "outputId": "b9ba6156-6fe9-44df-ddf2-f18bf8c71030"
      },
      "outputs": [
        {
          "output_type": "display_data",
          "data": {
            "text/plain": [
              "<Figure size 432x288 with 1 Axes>"
            ],
            "image/png": "[encoded data removed]"
          },
          "metadata": {
            "needs_background": "light"
          }
        }
      ],
      "source": [
        "# Importing the passenger data from Airline passenger\n",
        "data=pd.read_csv(\"airline-passengers.csv\",usecols=[1])\n",
        "plt.title(\"Time series data\")\n",
        "plt.xlabel(\"Number of months [1949-01 to 1960-12]\")\n",
        "plt.ylabel(\"Number of passengers\")\n",
        "plt.plot(data)\n",
        "plt.show()"
      ]
    },
    {
      "cell_type": "markdown",
      "source": [
        "**b)Explain the short-term and long-term temporal patterns that you see\n",
        "in the data considering that this is the monthly number of airline passengers.**\n",
        "\n",
        "By the keen observation of graph and values of Airline passenger data [1949-01 to 1960-12] we can able to conclude the highest ever recorded number is at 1960-07(July)-622 passengers.\n",
        "Increasing patterns are as follows\n",
        "\n",
        "[November(11)- March(3)- ->(5 Months)]-**Long-term Temporal Pattern**\n",
        "\n",
        "[June(6)- August(8)- ->(3 Months)]-**Short-term Temporal Pattern**\n",
        "\n",
        "the months of April, May, September, October has the passenger fluctuations and are having low number of passengers when compared to the other months.Hence We can conclude  November- March as long term temporal pattern and June- August as the short term temporal pattern.\n"
      ],
      "metadata": {
        "id": "rPBz-cRKtDXX"
      },
      "id": "rPBz-cRKtDXX"
    },
    {
      "cell_type": "code",
      "execution_count": 5,
      "id": "e97fdb1b",
      "metadata": {
        "id": "e97fdb1b"
      },
      "outputs": [],
      "source": [
        "#fixing random seed \n",
        "np.random.seed(0)\n",
        "# Converting into Float Data\n",
        "data= data.astype('float64')\n",
        "# Normalize the data to range (0; 1)\n",
        "scaler=MinMaxScaler(feature_range=(0, 1))\n",
        "data=scaler.fit_transform(data)\n",
        "# Spliting train and test data\n",
        "train,test= train_test_split(data, train_size=0.67,shuffle=False)"
      ]
    },
    {
      "cell_type": "code",
      "execution_count": 6,
      "id": "a7d569ec",
      "metadata": {
        "id": "a7d569ec"
      },
      "outputs": [],
      "source": [
        "## Obtain the two-column input-output dataset to be used in LSTM\n",
        "shiftrate=1\n",
        "x_train= []\n",
        "y_train = []\n",
        "for i in range(len(train)-shiftrate-1):\n",
        "    x_train.append(train[i:(i+shiftrate),0])\n",
        "    y_train.append(train[i+shiftrate,0])\n",
        "\n",
        "x_test= []\n",
        "y_test = []\n",
        "for i in range(len(test)-shiftrate-1):\n",
        "    x_test.append(test[i:(i+shiftrate),0])\n",
        "    y_test.append(test[i+shiftrate,0])"
      ]
    },
    {
      "cell_type": "code",
      "execution_count": 7,
      "id": "b78acc0f",
      "metadata": {
        "id": "b78acc0f"
      },
      "outputs": [],
      "source": [
        "## Converting list into array\n",
        "x_train=np.array(x_train)\n",
        "x_test=np.array(x_test)\n",
        "y_train=np.array(y_train)\n",
        "y_test=np.array(y_test)\n",
        "## Reshape function in numpy with (Xtrain.shape[0], 1, Xtrain.shape[1])\n",
        "x_train =np.reshape(x_train,(x_train.shape[0],1,x_train.shape[1]))\n",
        "x_test =np.reshape(x_test,(x_test.shape[0], 1 ,x_test.shape[1]))"
      ]
    },
    {
      "cell_type": "code",
      "execution_count": 8,
      "id": "0b94d39c",
      "metadata": {
        "colab": {
          "base_uri": "https://localhost:8080/"
        },
        "id": "0b94d39c",
        "outputId": "93360836-f541-4540-ca86-541aa265e2d5"
      },
      "outputs": [
        {
          "output_type": "stream",
          "name": "stdout",
          "text": [
            "Epoch 1/100\n",
            "94/94 - 1s - loss: 0.5873 - 1s/epoch - 14ms/step\n",
            "Epoch 2/100\n",
            "94/94 - 0s - loss: 0.3302 - 148ms/epoch - 2ms/step\n",
            "Epoch 3/100\n",
            "94/94 - 0s - loss: 0.1820 - 136ms/epoch - 1ms/step\n",
            "Epoch 4/100\n",
            "94/94 - 0s - loss: 0.0996 - 142ms/epoch - 2ms/step\n",
            "Epoch 5/100\n",
            "94/94 - 0s - loss: 0.0555 - 147ms/epoch - 2ms/step\n",
            "Epoch 6/100\n",
            "94/94 - 0s - loss: 0.0334 - 145ms/epoch - 2ms/step\n",
            "Epoch 7/100\n",
            "94/94 - 0s - loss: 0.0232 - 128ms/epoch - 1ms/step\n",
            "Epoch 8/100\n",
            "94/94 - 0s - loss: 0.0188 - 151ms/epoch - 2ms/step\n",
            "Epoch 9/100\n",
            "94/94 - 0s - loss: 0.0171 - 129ms/epoch - 1ms/step\n",
            "Epoch 10/100\n",
            "94/94 - 0s - loss: 0.0166 - 136ms/epoch - 1ms/step\n",
            "Epoch 11/100\n",
            "94/94 - 0s - loss: 0.0162 - 133ms/epoch - 1ms/step\n",
            "Epoch 12/100\n",
            "94/94 - 0s - loss: 0.0161 - 126ms/epoch - 1ms/step\n",
            "Epoch 13/100\n",
            "94/94 - 0s - loss: 0.0161 - 156ms/epoch - 2ms/step\n",
            "Epoch 14/100\n",
            "94/94 - 0s - loss: 0.0160 - 130ms/epoch - 1ms/step\n",
            "Epoch 15/100\n",
            "94/94 - 0s - loss: 0.0158 - 141ms/epoch - 1ms/step\n",
            "Epoch 16/100\n",
            "94/94 - 0s - loss: 0.0158 - 128ms/epoch - 1ms/step\n",
            "Epoch 17/100\n",
            "94/94 - 0s - loss: 0.0156 - 125ms/epoch - 1ms/step\n",
            "Epoch 18/100\n",
            "94/94 - 0s - loss: 0.0156 - 122ms/epoch - 1ms/step\n",
            "Epoch 19/100\n",
            "94/94 - 0s - loss: 0.0154 - 137ms/epoch - 1ms/step\n",
            "Epoch 20/100\n",
            "94/94 - 0s - loss: 0.0154 - 135ms/epoch - 1ms/step\n",
            "Epoch 21/100\n",
            "94/94 - 0s - loss: 0.0152 - 144ms/epoch - 2ms/step\n",
            "Epoch 22/100\n",
            "94/94 - 0s - loss: 0.0150 - 143ms/epoch - 2ms/step\n",
            "Epoch 23/100\n",
            "94/94 - 0s - loss: 0.0150 - 130ms/epoch - 1ms/step\n",
            "Epoch 24/100\n",
            "94/94 - 0s - loss: 0.0148 - 127ms/epoch - 1ms/step\n",
            "Epoch 25/100\n",
            "94/94 - 0s - loss: 0.0146 - 113ms/epoch - 1ms/step\n",
            "Epoch 26/100\n",
            "94/94 - 0s - loss: 0.0145 - 127ms/epoch - 1ms/step\n",
            "Epoch 27/100\n",
            "94/94 - 0s - loss: 0.0143 - 122ms/epoch - 1ms/step\n",
            "Epoch 28/100\n",
            "94/94 - 0s - loss: 0.0141 - 141ms/epoch - 1ms/step\n",
            "Epoch 29/100\n",
            "94/94 - 0s - loss: 0.0140 - 154ms/epoch - 2ms/step\n",
            "Epoch 30/100\n",
            "94/94 - 0s - loss: 0.0137 - 170ms/epoch - 2ms/step\n",
            "Epoch 31/100\n",
            "94/94 - 0s - loss: 0.0135 - 143ms/epoch - 2ms/step\n",
            "Epoch 32/100\n",
            "94/94 - 0s - loss: 0.0133 - 125ms/epoch - 1ms/step\n",
            "Epoch 33/100\n",
            "94/94 - 0s - loss: 0.0132 - 125ms/epoch - 1ms/step\n",
            "Epoch 34/100\n",
            "94/94 - 0s - loss: 0.0130 - 126ms/epoch - 1ms/step\n",
            "Epoch 35/100\n",
            "94/94 - 0s - loss: 0.0128 - 137ms/epoch - 1ms/step\n",
            "Epoch 36/100\n",
            "94/94 - 0s - loss: 0.0125 - 129ms/epoch - 1ms/step\n",
            "Epoch 37/100\n",
            "94/94 - 0s - loss: 0.0123 - 131ms/epoch - 1ms/step\n",
            "Epoch 38/100\n",
            "94/94 - 0s - loss: 0.0120 - 127ms/epoch - 1ms/step\n",
            "Epoch 39/100\n",
            "94/94 - 0s - loss: 0.0118 - 123ms/epoch - 1ms/step\n",
            "Epoch 40/100\n",
            "94/94 - 0s - loss: 0.0114 - 125ms/epoch - 1ms/step\n",
            "Epoch 41/100\n",
            "94/94 - 0s - loss: 0.0112 - 140ms/epoch - 1ms/step\n",
            "Epoch 42/100\n",
            "94/94 - 0s - loss: 0.0110 - 125ms/epoch - 1ms/step\n",
            "Epoch 43/100\n",
            "94/94 - 0s - loss: 0.0106 - 134ms/epoch - 1ms/step\n",
            "Epoch 44/100\n",
            "94/94 - 0s - loss: 0.0103 - 142ms/epoch - 2ms/step\n",
            "Epoch 45/100\n",
            "94/94 - 0s - loss: 0.0100 - 157ms/epoch - 2ms/step\n",
            "Epoch 46/100\n",
            "94/94 - 0s - loss: 0.0098 - 133ms/epoch - 1ms/step\n",
            "Epoch 47/100\n",
            "94/94 - 0s - loss: 0.0094 - 133ms/epoch - 1ms/step\n",
            "Epoch 48/100\n",
            "94/94 - 0s - loss: 0.0091 - 119ms/epoch - 1ms/step\n",
            "Epoch 49/100\n",
            "94/94 - 0s - loss: 0.0087 - 126ms/epoch - 1ms/step\n",
            "Epoch 50/100\n",
            "94/94 - 0s - loss: 0.0084 - 125ms/epoch - 1ms/step\n",
            "Epoch 51/100\n",
            "94/94 - 0s - loss: 0.0082 - 124ms/epoch - 1ms/step\n",
            "Epoch 52/100\n",
            "94/94 - 0s - loss: 0.0079 - 140ms/epoch - 1ms/step\n",
            "Epoch 53/100\n",
            "94/94 - 0s - loss: 0.0075 - 125ms/epoch - 1ms/step\n",
            "Epoch 54/100\n",
            "94/94 - 0s - loss: 0.0072 - 125ms/epoch - 1ms/step\n",
            "Epoch 55/100\n",
            "94/94 - 0s - loss: 0.0069 - 125ms/epoch - 1ms/step\n",
            "Epoch 56/100\n",
            "94/94 - 0s - loss: 0.0067 - 126ms/epoch - 1ms/step\n",
            "Epoch 57/100\n",
            "94/94 - 0s - loss: 0.0063 - 138ms/epoch - 1ms/step\n",
            "Epoch 58/100\n",
            "94/94 - 0s - loss: 0.0060 - 130ms/epoch - 1ms/step\n",
            "Epoch 59/100\n",
            "94/94 - 0s - loss: 0.0058 - 124ms/epoch - 1ms/step\n",
            "Epoch 60/100\n",
            "94/94 - 0s - loss: 0.0055 - 155ms/epoch - 2ms/step\n",
            "Epoch 61/100\n",
            "94/94 - 0s - loss: 0.0052 - 128ms/epoch - 1ms/step\n",
            "Epoch 62/100\n",
            "94/94 - 0s - loss: 0.0049 - 122ms/epoch - 1ms/step\n",
            "Epoch 63/100\n",
            "94/94 - 0s - loss: 0.0048 - 138ms/epoch - 1ms/step\n",
            "Epoch 64/100\n",
            "94/94 - 0s - loss: 0.0045 - 134ms/epoch - 1ms/step\n",
            "Epoch 65/100\n",
            "94/94 - 0s - loss: 0.0043 - 122ms/epoch - 1ms/step\n",
            "Epoch 66/100\n",
            "94/94 - 0s - loss: 0.0040 - 125ms/epoch - 1ms/step\n",
            "Epoch 67/100\n",
            "94/94 - 0s - loss: 0.0038 - 130ms/epoch - 1ms/step\n",
            "Epoch 68/100\n",
            "94/94 - 0s - loss: 0.0037 - 142ms/epoch - 2ms/step\n",
            "Epoch 69/100\n",
            "94/94 - 0s - loss: 0.0034 - 129ms/epoch - 1ms/step\n",
            "Epoch 70/100\n",
            "94/94 - 0s - loss: 0.0033 - 141ms/epoch - 2ms/step\n",
            "Epoch 71/100\n",
            "94/94 - 0s - loss: 0.0032 - 131ms/epoch - 1ms/step\n",
            "Epoch 72/100\n",
            "94/94 - 0s - loss: 0.0030 - 137ms/epoch - 1ms/step\n",
            "Epoch 73/100\n",
            "94/94 - 0s - loss: 0.0029 - 126ms/epoch - 1ms/step\n",
            "Epoch 74/100\n",
            "94/94 - 0s - loss: 0.0028 - 125ms/epoch - 1ms/step\n",
            "Epoch 75/100\n",
            "94/94 - 0s - loss: 0.0027 - 132ms/epoch - 1ms/step\n",
            "Epoch 76/100\n",
            "94/94 - 0s - loss: 0.0026 - 123ms/epoch - 1ms/step\n",
            "Epoch 77/100\n",
            "94/94 - 0s - loss: 0.0025 - 120ms/epoch - 1ms/step\n",
            "Epoch 78/100\n",
            "94/94 - 0s - loss: 0.0024 - 123ms/epoch - 1ms/step\n",
            "Epoch 79/100\n",
            "94/94 - 0s - loss: 0.0023 - 116ms/epoch - 1ms/step\n",
            "Epoch 80/100\n",
            "94/94 - 0s - loss: 0.0023 - 117ms/epoch - 1ms/step\n",
            "Epoch 81/100\n",
            "94/94 - 0s - loss: 0.0022 - 121ms/epoch - 1ms/step\n",
            "Epoch 82/100\n",
            "94/94 - 0s - loss: 0.0022 - 128ms/epoch - 1ms/step\n",
            "Epoch 83/100\n",
            "94/94 - 0s - loss: 0.0022 - 137ms/epoch - 1ms/step\n",
            "Epoch 84/100\n",
            "94/94 - 0s - loss: 0.0021 - 125ms/epoch - 1ms/step\n",
            "Epoch 85/100\n",
            "94/94 - 0s - loss: 0.0021 - 126ms/epoch - 1ms/step\n",
            "Epoch 86/100\n",
            "94/94 - 0s - loss: 0.0021 - 124ms/epoch - 1ms/step\n",
            "Epoch 87/100\n",
            "94/94 - 0s - loss: 0.0020 - 128ms/epoch - 1ms/step\n",
            "Epoch 88/100\n",
            "94/94 - 0s - loss: 0.0020 - 134ms/epoch - 1ms/step\n",
            "Epoch 89/100\n",
            "94/94 - 0s - loss: 0.0020 - 145ms/epoch - 2ms/step\n",
            "Epoch 90/100\n",
            "94/94 - 0s - loss: 0.0020 - 127ms/epoch - 1ms/step\n",
            "Epoch 91/100\n",
            "94/94 - 0s - loss: 0.0020 - 137ms/epoch - 1ms/step\n",
            "Epoch 92/100\n",
            "94/94 - 0s - loss: 0.0021 - 119ms/epoch - 1ms/step\n",
            "Epoch 93/100\n",
            "94/94 - 0s - loss: 0.0020 - 122ms/epoch - 1ms/step\n",
            "Epoch 94/100\n",
            "94/94 - 0s - loss: 0.0020 - 122ms/epoch - 1ms/step\n",
            "Epoch 95/100\n",
            "94/94 - 0s - loss: 0.0020 - 128ms/epoch - 1ms/step\n",
            "Epoch 96/100\n",
            "94/94 - 0s - loss: 0.0020 - 121ms/epoch - 1ms/step\n",
            "Epoch 97/100\n",
            "94/94 - 0s - loss: 0.0020 - 111ms/epoch - 1ms/step\n",
            "Epoch 98/100\n",
            "94/94 - 0s - loss: 0.0020 - 120ms/epoch - 1ms/step\n",
            "Epoch 99/100\n",
            "94/94 - 0s - loss: 0.0020 - 131ms/epoch - 1ms/step\n",
            "Epoch 100/100\n",
            "94/94 - 0s - loss: 0.0020 - 126ms/epoch - 1ms/step\n"
          ]
        },
        {
          "output_type": "execute_result",
          "data": {
            "text/plain": [
              "<keras.callbacks.History at 0x7fb33f230e10>"
            ]
          },
          "metadata": {},
          "execution_count": 8
        }
      ],
      "source": [
        "## Building LSTM network\n",
        "model = Sequential()\n",
        "model.add(LSTM(4,activation='sigmoid', input_shape=(1, 1)))\n",
        "model.add(Dense(1))\n",
        "model.compile(loss='mean_squared_error', optimizer='adam')\n",
        "model.fit(x_train, y_train, epochs=100, batch_size=1, verbose=2)"
      ]
    },
    {
      "cell_type": "code",
      "execution_count": 9,
      "id": "cc1d8534",
      "metadata": {
        "id": "cc1d8534"
      },
      "outputs": [],
      "source": [
        "## Calculating Predictions\n",
        "predtrain = model.predict(x_train)\n",
        "predtest = model.predict(x_test)\n",
        "\n",
        "predtrain = scaler.inverse_transform(predtrain)\n",
        "predtest = scaler.inverse_transform(predtest)\n",
        "\n",
        "## Shaping train data\n",
        "y_train=y_train.reshape(-1,1)\n",
        "y_train = scaler.inverse_transform(y_train)\n",
        "\n",
        "## Shaping test data\n",
        "y_test=y_test.reshape(-1,1)\n",
        "y_test= scaler.inverse_transform(y_test)"
      ]
    },
    {
      "cell_type": "code",
      "execution_count": 10,
      "id": "7036fb14",
      "metadata": {
        "colab": {
          "base_uri": "https://localhost:8080/"
        },
        "id": "7036fb14",
        "outputId": "6dc4627b-8ed2-460c-d6f8-81858e67f3e7"
      },
      "outputs": [
        {
          "output_type": "stream",
          "name": "stdout",
          "text": [
            "RMSE Train Score:  23\n",
            "RSME Test Score:  65\n"
          ]
        }
      ],
      "source": [
        "# root-mean-squared-error (RMSE) in training data\n",
        "trainScore = math.sqrt(mean_squared_error(y_train, predtrain[:,0]))\n",
        "print('RMSE Train Score: ',round(trainScore))\n",
        "\n",
        "# root-mean-squared-error (RMSE) in testing data\n",
        "testScore = math.sqrt(mean_squared_error(y_test, predtest[:,0]))\n",
        "print('RSME Test Score: ' ,round(testScore))"
      ]
    },
    {
      "cell_type": "code",
      "execution_count": 11,
      "id": "b4f73658",
      "metadata": {
        "id": "b4f73658",
        "colab": {
          "base_uri": "https://localhost:8080/",
          "height": 295
        },
        "outputId": "e3caaa1f-b232-4cb9-cfa3-84db05ee8565"
      },
      "outputs": [
        {
          "output_type": "display_data",
          "data": {
            "text/plain": [
              "<Figure size 432x288 with 1 Axes>"
            ],
            "image/png": "[encoded data removed]"
          },
          "metadata": {
            "needs_background": "light"
          }
        }
      ],
      "source": [
        "# Aligning Test and Train predictions\n",
        "shiftrate=1\n",
        "Predict_trainPlot = np.empty_like(data)\n",
        "Predict_trainPlot[:, :] = np.nan\n",
        "Predict_trainPlot[shiftrate:len(predtrain)+shiftrate, :] = predtrain\n",
        "Predict_testPlot = np.empty_like(data)\n",
        "Predict_testPlot[:, :] = np.nan\n",
        "Predict_testPlot[len(predtrain)+(shiftrate*2)+1:len(data)-1, :]= predtest\n",
        "\n",
        "#Plotting the actual and predicted values for the entire dataset including training and testing.\n",
        "plt.title('Plot of Dataset including training and testing')\n",
        "plt.plot(scaler.inverse_transform(data),label='Passenger Data')\n",
        "plt.plot(Predict_trainPlot,label='Predictions on Train Data')\n",
        "plt.plot(Predict_testPlot,label='Predictions of Test Data')\n",
        "\n",
        "# Labelling Data on plot\n",
        "plt.legend(('Passenger Data ','Predictions on Train Data','Predictions of Test Data'))\n",
        "plt.xlabel(\"Number of months [1949-01 to 1960-12]\")\n",
        "plt.ylabel(\"Number of passengers\")\n",
        "plt.show()"
      ]
    }
  ],
  "metadata": {
    "kernelspec": {
      "display_name": "Python 3 (ipykernel)",
      "language": "python",
      "name": "python3"
    },
    "language_info": {
      "codemirror_mode": {
        "name": "ipython",
        "version": 3
      },
      "file_extension": ".py",
      "mimetype": "text/x-python",
      "name": "python",
      "nbconvert_exporter": "python",
      "pygments_lexer": "ipython3",
      "version": "3.9.7"
    },
    "colab": {
      "name": "HW5a,b,c.ipynb",
      "provenance": [],
      "collapsed_sections": []
    }
  },
  "nbformat": 4,
  "nbformat_minor": 5
}