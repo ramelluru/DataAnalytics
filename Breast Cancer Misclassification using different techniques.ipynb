{
 "cells": [
  {
   "cell_type": "code",
   "execution_count": 86,
   "id": "8d73b0d3",
   "metadata": {},
   "outputs": [],
   "source": [
    "## Importing all the necessary libraries\n",
    "import numpy as np\n",
    "import pandas as pd \n",
    "import matplotlib.pyplot as plt \n",
    "from sklearn.model_selection import train_test_split\n",
    "from sklearn.linear_model import LogisticRegression\n",
    "from sklearn.discriminant_analysis import LinearDiscriminantAnalysis\n",
    "from sklearn import svm\n",
    "import matplotlib.pyplot as plt\n",
    "from sklearn.metrics import confusion_matrix\n",
    "from sklearn.ensemble import AdaBoostClassifier\n",
    "from sklearn.ensemble import RandomForestClassifier\n",
    "from sklearn.neighbors import KNeighborsClassifier\n",
    "from sklearn.tree import DecisionTreeClassifier \n",
    "from xgboost import XGBClassifier"
   ]
  },
  {
   "cell_type": "code",
   "execution_count": 87,
   "id": "83cb66b4",
   "metadata": {},
   "outputs": [],
   "source": [
    "# Loading the dataset to do the manuplation\n",
    "d = pd.read_csv(\"breast-cancer-wisconsin.csv\", header = None)\n",
    "# Seperating the data set into data and response variable\n",
    "x=d.iloc[:,1:10]\n",
    "# Response Variable\n",
    "y=d.iloc[:,-1]\n",
    "# Normalizing the response variable in terms of 0 and 1\n",
    "y2=(y-2)/2\n",
    "# Splitting the test  and train data sets of bot data and response variables\n",
    "x_train, x_test, y_train, y_test = train_test_split(x, y2, train_size=0.587,shuffle=False)"
   ]
  },
  {
   "cell_type": "markdown",
   "id": "89cbc158",
   "metadata": {},
   "source": [
    "## A) Logistic Regression "
   ]
  },
  {
   "cell_type": "code",
   "execution_count": 88,
   "id": "0a750247",
   "metadata": {},
   "outputs": [
    {
     "name": "stdout",
     "output_type": "stream",
     "text": [
      "Misclassification error using logistic regression= 0.01060070671378092\n",
      "Cost using logistic regresion: 0.014748409485251591\n",
      "Rms value using logistic regression: 0.47752614022418116\n"
     ]
    }
   ],
   "source": [
    "ld = LogisticRegression()\n",
    "ld.fit(x_train, y_train)\n",
    "predictions = ld.predict(x_test)\n",
    "error=np.mean(predictions != y_test)\n",
    "print(\"Misclassification error using logistic regression=\",error)\n",
    "c=confusion_matrix(y_test, predictions)\n",
    "print(\"Cost using logistic regresion:\",(c[0][1]+100*c[1][0])/6916)\n",
    "r=0\n",
    "## probability parameter for the correctly classified instances\n",
    "p=ld.predict_proba(x_test)\n",
    "for i in range(len(predictions)):\n",
    "    r=r+((p[i][1]-0.5)**2)\n",
    "p1=r/len(predictions)\n",
    "rms=np.sqrt(p1)\n",
    "print(\"Rms value using logistic regression:\",rms)"
   ]
  },
  {
   "cell_type": "markdown",
   "id": "1e81ae39",
   "metadata": {},
   "source": [
    "##  B) KNNeighbour Classification"
   ]
  },
  {
   "cell_type": "code",
   "execution_count": 89,
   "id": "eac14b4d",
   "metadata": {},
   "outputs": [
    {
     "name": "stdout",
     "output_type": "stream",
     "text": [
      "Misclassification using Knn neighbor\n",
      "Number of neighbors= 1\n",
      "Misclassification Rate  =  0.0176678445229682\n",
      "Cost using Knn: 0.015037593984962405\n",
      "Number of neighbors= 2\n",
      "Misclassification Rate  =  0.024734982332155476\n",
      "Cost using Knn: 0.07258530942741469\n",
      "Number of neighbors= 3\n",
      "Misclassification Rate  =  0.014134275618374558\n",
      "Cost using Knn: 0.000578368999421631\n",
      "Number of neighbors= 4\n",
      "Misclassification Rate  =  0.0176678445229682\n",
      "Cost using Knn: 0.029352226720647773\n",
      "Number of neighbors= 5\n",
      "Misclassification Rate  =  0.0176678445229682\n",
      "Cost using Knn: 0.015037593984962405\n",
      "Number of neighbors= 6\n",
      "Misclassification Rate  =  0.01060070671378092\n",
      "Cost using Knn: 0.014748409485251591\n",
      "Number of neighbors= 7\n",
      "Misclassification Rate  =  0.014134275618374558\n",
      "Cost using Knn: 0.014893001735106999\n",
      "Number of neighbors= 8\n",
      "Misclassification Rate  =  0.01060070671378092\n",
      "Cost using Knn: 0.014748409485251591\n",
      "Number of neighbors= 9\n",
      "Misclassification Rate  =  0.01060070671378092\n",
      "Cost using Knn: 0.014748409485251591\n",
      "Number of neighbors= 10\n",
      "Misclassification Rate  =  0.01060070671378092\n",
      "Cost using Knn: 0.014748409485251591\n"
     ]
    },
    {
     "data": {
      "image/png": "[encoded data removed]",
      "text/plain": [
       "<Figure size 432x288 with 1 Axes>"
      ]
     },
     "metadata": {
      "needs_background": "light"
     },
     "output_type": "display_data"
    }
   ],
   "source": [
    "m=[]\n",
    "n=[1,2,3,4,5,6,7,8,9,10]\n",
    "print(\"Misclassification using Knn neighbor\")\n",
    "for i in range(len(n)):\n",
    "    k = KNeighborsClassifier(n_neighbors=n[i])\n",
    "    k.fit(x_train,y_train)\n",
    "    pred_i = k.predict(x_test)\n",
    "    print (\"Number of neighbors=\",n[i])\n",
    "    print (\"Misclassification Rate  = \",np.mean(pred_i!=y_test))\n",
    "    m.append(np.mean(pred_i!=y_test))\n",
    "    co=confusion_matrix(y_test, pred_i)\n",
    "    print(\"Cost using Knn:\",(co[0][1]+100*co[1][0])/6916)\n",
    "plt.xticks(n) \n",
    "plt.plot(n,m)\n",
    "plt.xlabel(\"Neighbour\")\n",
    "plt.ylabel(\"Misclassification Rate\")\n",
    "plt.show()"
   ]
  },
  {
   "cell_type": "markdown",
   "id": "e1952d69",
   "metadata": {},
   "source": [
    "## C)Linear Discriminant Analysis "
   ]
  },
  {
   "cell_type": "code",
   "execution_count": 90,
   "id": "417df361",
   "metadata": {},
   "outputs": [
    {
     "name": "stdout",
     "output_type": "stream",
     "text": [
      "Misclassification error using LDA= 0.0176678445229682\n",
      "Cost using LDA: 0.05798149219201851\n"
     ]
    }
   ],
   "source": [
    "lda = LinearDiscriminantAnalysis()\n",
    "lda.fit(x_train, y_train)\n",
    "predictions = lda.predict(x_test)\n",
    "error=np.mean(predictions != y_test)\n",
    "print(\"Misclassification error using LDA=\",error)\n",
    "co=confusion_matrix(y_test, predictions)\n",
    "print(\"Cost using LDA:\",(co[0][1]+100*co[1][0])/6916)"
   ]
  },
  {
   "cell_type": "markdown",
   "id": "1c9dd299",
   "metadata": {},
   "source": [
    "## D) Support Vector Machine"
   ]
  },
  {
   "cell_type": "markdown",
   "id": "6ad593a4",
   "metadata": {},
   "source": [
    "## Linear Kernel "
   ]
  },
  {
   "cell_type": "code",
   "execution_count": 91,
   "id": "c7eb91fb",
   "metadata": {},
   "outputs": [
    {
     "name": "stdout",
     "output_type": "stream",
     "text": [
      "Misclassification error using SVM linear Kernel= 0.014134275618374558\n",
      "RMS value using SVM linear kernel= 0.4641658523190452\n",
      "Cost using SVM linear kernel: 0.014893001735106999\n"
     ]
    }
   ],
   "source": [
    "sv = svm.SVC(kernel='linear',probability=True, random_state = 42)\n",
    "sv.fit(x_train, y_train)\n",
    "predictionsl = sv.predict(x_test)\n",
    "error=np.mean(predictionsl != y_test)\n",
    "print(\"Misclassification error using SVM linear Kernel=\",error)\n",
    "pr=sv.predict_proba(x_test)\n",
    "r=0\n",
    "p=sv.predict_proba(x_test)\n",
    "for i in range(len(predictions)):\n",
    "    r=r+((p[i][1]-0.5)**2)\n",
    "p1=r/len(predictions)\n",
    "rms=np.sqrt(p1)\n",
    "print(\"RMS value using SVM linear kernel=\",rms)\n",
    "co=confusion_matrix(y_test, predictionsl)\n",
    "print(\"Cost using SVM linear kernel:\",(co[0][1]+100*co[1][0])/6916)"
   ]
  },
  {
   "cell_type": "markdown",
   "id": "60bd1d9d",
   "metadata": {},
   "source": [
    "\n",
    "## Poly Kernel "
   ]
  },
  {
   "cell_type": "code",
   "execution_count": 92,
   "id": "aff0cf73",
   "metadata": {},
   "outputs": [
    {
     "name": "stdout",
     "output_type": "stream",
     "text": [
      "Degree 2\n",
      "Misclassification error= 0.01060070671378092\n",
      "RMS value using SVM poly kernel= 0.46236330869006026\n",
      "Cost using SVM poly kernel= 0.014748409485251591\n",
      "Degree 3\n",
      "Misclassification error= 0.01060070671378092\n",
      "RMS value using SVM poly kernel= 0.44774022079133446\n",
      "Cost using SVM poly kernel= 0.029063042220936957\n",
      "Degree 4\n",
      "Misclassification error= 0.0353356890459364\n",
      "RMS value using SVM poly kernel= 0.41153076105586495\n",
      "Cost using SVM poly kernel= 0.10164835164835165\n",
      "Degree 5\n",
      "Misclassification error= 0.0353356890459364\n",
      "RMS value using SVM poly kernel= 0.3707110551523894\n",
      "Cost using SVM poly kernel= 0.10164835164835165\n"
     ]
    }
   ],
   "source": [
    "k=[2,3,4,5]\n",
    "for i in range(len(k)):\n",
    "    print(\"Degree\",k[i])\n",
    "    sv = svm.SVC(kernel='poly', degree=k[i], probability=True, random_state =42)\n",
    "    sv.fit(x_train, y_train)\n",
    "    predictions = sv.predict(x_test)\n",
    "    error=np.mean(predictions != y_test)\n",
    "    print(\"Misclassification error=\",error)\n",
    "    pr=sv.predict_proba(x_test)\n",
    "    r=0\n",
    "    p=sv.predict_proba(x_test)\n",
    "    for i in range(len(predictions)):\n",
    "        r=r+((p[i][1]-0.5)**2)\n",
    "    p1=r/len(predictions)\n",
    "    rms=np.sqrt(p1)\n",
    "    print(\"RMS value using SVM poly kernel=\",rms)\n",
    "    co=confusion_matrix(y_test, predictions)\n",
    "    cost1 =co[0][1]\n",
    "    cost2 = co[1][0]*100\n",
    "    Total=(cost1+cost2)/6916\n",
    "    print(\"Cost using SVM poly kernel=\",Total)"
   ]
  },
  {
   "cell_type": "markdown",
   "id": "40051e62",
   "metadata": {},
   "source": [
    "## RBF Kernel "
   ]
  },
  {
   "cell_type": "code",
   "execution_count": 93,
   "id": "76238d69",
   "metadata": {},
   "outputs": [
    {
     "name": "stdout",
     "output_type": "stream",
     "text": [
      "Misclassification error using SVM RBF Kernel= 0.0176678445229682\n",
      "RMS value using SVM RBF Kernel= 0.47098612438805415\n",
      "Cost using SVM RBF kernel: 0.015037593984962405\n"
     ]
    }
   ],
   "source": [
    "sv = svm.SVC(kernel='rbf',probability=True, random_state = 42)\n",
    "sv.fit(x_train, y_train)\n",
    "predictions = sv.predict(x_test)\n",
    "error=np.mean(predictions != y_test)\n",
    "print(\"Misclassification error using SVM RBF Kernel=\",error)\n",
    "r=0\n",
    "p=sv.predict_proba(x_test)\n",
    "for i in range(len(predictions)):\n",
    "    r=r+((p[i][1]-0.5)**2)\n",
    "p1=r/len(predictions)\n",
    "rms=np.sqrt(p1)\n",
    "print(\"RMS value using SVM RBF Kernel=\",rms)\n",
    "co=confusion_matrix(y_test, predictions)\n",
    "print(\"Cost using SVM RBF kernel:\",(co[0][1]+100*co[1][0])/6916)"
   ]
  },
  {
   "cell_type": "markdown",
   "id": "39e027c0",
   "metadata": {},
   "source": [
    "## Sigmoid Kernel "
   ]
  },
  {
   "cell_type": "code",
   "execution_count": 94,
   "id": "07f5677a",
   "metadata": {},
   "outputs": [
    {
     "name": "stdout",
     "output_type": "stream",
     "text": [
      "Misclassification error using SVM Sigmoid Kernel = 0.8374558303886925\n",
      "RMS value using SVM Sigmoid Kernel= 0.46232613732590283\n",
      "Cost using SVM Sigmoid kernel: 0.9933487565066512\n"
     ]
    }
   ],
   "source": [
    "sv = svm.SVC(kernel='sigmoid',probability=True, random_state = 42)\n",
    "sv.fit(x_train, y_train)\n",
    "predictions = sv.predict(x_test)\n",
    "error=np.mean(predictions != y_test)\n",
    "print(\"Misclassification error using SVM Sigmoid Kernel =\",error)\n",
    "r=0\n",
    "pr=sv.predict_proba(x_test)\n",
    "r=0\n",
    "p=sv.predict_proba(x_test)\n",
    "for i in range(len(predictions)):\n",
    "    r=r+((p[i][1]-0.5)**2)\n",
    "p1=r/len(predictions)\n",
    "rms=np.sqrt(p1)\n",
    "print(\"RMS value using SVM Sigmoid Kernel=\",rms)\n",
    "co=confusion_matrix(y_test, predictions)\n",
    "print(\"Cost using SVM Sigmoid kernel:\",(co[0][1]+100*co[1][0])/6916)"
   ]
  },
  {
   "cell_type": "markdown",
   "id": "8896c4b3",
   "metadata": {},
   "source": [
    "## Decision Tree Classifier with several depths"
   ]
  },
  {
   "cell_type": "code",
   "execution_count": 95,
   "id": "26823e36",
   "metadata": {},
   "outputs": [
    {
     "name": "stdout",
     "output_type": "stream",
     "text": [
      "depth= 3\n",
      "Misclassification Rate using Decision tree is:  0.0353356890459364\n",
      "Cost using SVM RBF kernel: 0.10164835164835165\n",
      "depth= 4\n",
      "Misclassification Rate using Decision tree is:  0.02120141342756184\n",
      "Cost using SVM RBF kernel: 0.043811451706188546\n",
      "depth= 5\n",
      "Misclassification Rate using Decision tree is:  0.05653710247349823\n",
      "Cost using SVM RBF kernel: 0.1884037015615963\n",
      "depth= 6\n",
      "Misclassification Rate using Decision tree is:  0.045936395759717315\n",
      "Cost using SVM RBF kernel: 0.1307113938692886\n",
      "depth= 7\n",
      "Misclassification Rate using Decision tree is:  0.045936395759717315\n",
      "Cost using SVM RBF kernel: 0.14502602660497396\n",
      "depth= 8\n",
      "Misclassification Rate using Decision tree is:  0.053003533568904596\n",
      "Cost using SVM RBF kernel: 0.1453152111046848\n",
      "depth= 9\n",
      "Misclassification Rate using Decision tree is:  0.053003533568904596\n",
      "Cost using SVM RBF kernel: 0.15962984384037016\n",
      "depth= 10\n",
      "Misclassification Rate using Decision tree is:  0.045936395759717315\n",
      "Cost using SVM RBF kernel: 0.1307113938692886\n"
     ]
    },
    {
     "data": {
      "image/png": "[encoded data removed]",
      "text/plain": [
       "<Figure size 432x288 with 1 Axes>"
      ]
     },
     "metadata": {
      "needs_background": "light"
     },
     "output_type": "display_data"
    },
    {
     "data": {
      "image/png": "[encoded data removed]",
      "text/plain": [
       "<Figure size 1200x800 with 1 Axes>"
      ]
     },
     "metadata": {
      "needs_background": "light"
     },
     "output_type": "display_data"
    }
   ],
   "source": [
    "from sklearn import tree\n",
    "depth=[3,4,5,6,7,8,9,10]\n",
    "msrate=[]\n",
    "for i in range (8):\n",
    "    print(\"depth=\",depth[i])\n",
    "    D = DecisionTreeClassifier(max_depth=depth[i])\n",
    "    D.fit(x_train, y_train)\n",
    "    predictionsd= D.predict(x_test)\n",
    "    msd=np.mean(predictionsd!=y_test)\n",
    "    msrate.append(msd)\n",
    "    print(\"Misclassification Rate using Decision tree is: \",msd)\n",
    "    co=confusion_matrix(y_test, predictionsd)\n",
    "    print(\"Cost using SVM RBF kernel:\",(co[0][1]+100*co[1][0])/6916)\n",
    "plt.plot(msrate)\n",
    "plt.ylabel(\"Misclassification Rate\")\n",
    "plt.xlabel(\"depth\")\n",
    "plt.show()\n",
    "D5 = DecisionTreeClassifier(max_depth=5)\n",
    "D5.fit(x_train, y_train)\n",
    "plt.figure(dpi=200)\n",
    "tree.plot_tree(D5)\n",
    "plt.show()"
   ]
  },
  {
   "cell_type": "markdown",
   "id": "ee7a236b",
   "metadata": {},
   "source": [
    "## F)Ada Boost Classifier"
   ]
  },
  {
   "cell_type": "code",
   "execution_count": 96,
   "id": "b5782002",
   "metadata": {},
   "outputs": [
    {
     "name": "stdout",
     "output_type": "stream",
     "text": [
      "Weak Learners= 100\n",
      "Misclassification Rate using Adaboost classifier is:  0.038869257950530034\n",
      "Cost using ADA BOOST kernel: 0.10179294389820706\n",
      "Weak Learners= 200\n",
      "Misclassification Rate using Adaboost classifier is:  0.038869257950530034\n",
      "Cost using ADA BOOST kernel: 0.10179294389820706\n",
      "Weak Learners= 300\n",
      "Misclassification Rate using Adaboost classifier is:  0.04946996466431095\n",
      "Cost using ADA BOOST kernel: 0.14517061885482938\n",
      "Weak Learners= 400\n",
      "Misclassification Rate using Adaboost classifier is:  0.038869257950530034\n",
      "Cost using ADA BOOST kernel: 0.10179294389820706\n",
      "Weak Learners= 500\n",
      "Misclassification Rate using Adaboost classifier is:  0.04240282685512368\n",
      "Cost using ADA BOOST kernel: 0.11625216888374783\n"
     ]
    }
   ],
   "source": [
    "weaklearners=[100,200,300,400,500]\n",
    "for i in range (5):\n",
    "    print(\"Weak Learners=\",weaklearners[i])\n",
    "    Aboost= AdaBoostClassifier(n_estimators=weaklearners[i])\n",
    "    Aboost.fit(x_train, y_train)\n",
    "    predictionsab= Aboost.predict(x_test)\n",
    "    msab=np.mean(predictionsab!=y_test)\n",
    "    print(\"Misclassification Rate using Adaboost classifier is: \",msab)\n",
    "    co=confusion_matrix(y_test, predictionsab)\n",
    "    print(\"Cost using ADA BOOST kernel:\",(co[0][1]+100*co[1][0])/6916)"
   ]
  },
  {
   "cell_type": "markdown",
   "id": "d39d260f",
   "metadata": {},
   "source": [
    "## F) Random Forest Classification"
   ]
  },
  {
   "cell_type": "code",
   "execution_count": 97,
   "id": "363e4d0c",
   "metadata": {},
   "outputs": [
    {
     "name": "stdout",
     "output_type": "stream",
     "text": [
      "Weak Learners= 100\n",
      "Misclassification Rate using random forest classifier is:  0.014134275618374558\n",
      "Cost using Random forest classifier: 0.9933487565066512\n",
      "Weak Learners= 200\n",
      "Misclassification Rate using random forest classifier is:  0.01060070671378092\n",
      "Cost using Random forest classifier: 0.9933487565066512\n",
      "Weak Learners= 300\n",
      "Misclassification Rate using random forest classifier is:  0.014134275618374558\n",
      "Cost using Random forest classifier: 0.9933487565066512\n",
      "Weak Learners= 400\n",
      "Misclassification Rate using random forest classifier is:  0.0176678445229682\n",
      "Cost using Random forest classifier: 0.9933487565066512\n",
      "Weak Learners= 500\n",
      "Misclassification Rate using random forest classifier is:  0.0176678445229682\n",
      "Cost using Random forest classifier: 0.9933487565066512\n"
     ]
    }
   ],
   "source": [
    "weaklearners=[100,200,300,400,500]\n",
    "for i in range (5):\n",
    "    print(\"Weak Learners=\",weaklearners[i])\n",
    "    rf= RandomForestClassifier(n_estimators=weaklearners[i])\n",
    "    rf.fit(x_train, y_train)\n",
    "    predictionsrf= rf.predict(x_test)\n",
    "    msrf=np.mean(predictionsrf!=y_test)\n",
    "    print(\"Misclassification Rate using random forest classifier is: \",msrf)\n",
    "    co=confusion_matrix(y_test, predictions)\n",
    "    print(\"Cost using Random forest classifier:\",(co[0][1]+100*co[1][0])/6916)"
   ]
  },
  {
   "cell_type": "markdown",
   "id": "096ffd3f",
   "metadata": {},
   "source": [
    "## F) XG Boost"
   ]
  },
  {
   "cell_type": "code",
   "execution_count": 98,
   "id": "0944dd4f",
   "metadata": {},
   "outputs": [
    {
     "name": "stdout",
     "output_type": "stream",
     "text": [
      "Weak Learners= 100\n",
      "Misclassification Rate using Xgboost classifier is:  0.02120141342756184\n",
      "Cost using Xgboost classifier: 0.015182186234817813\n",
      "Weak Learners= 200\n",
      "Misclassification Rate using Xgboost classifier is:  0.02120141342756184\n",
      "Cost using Xgboost classifier: 0.015182186234817813\n",
      "Weak Learners= 300\n",
      "Misclassification Rate using Xgboost classifier is:  0.02120141342756184\n",
      "Cost using Xgboost classifier: 0.015182186234817813\n",
      "Weak Learners= 400\n",
      "Misclassification Rate using Xgboost classifier is:  0.02120141342756184\n",
      "Cost using Xgboost classifier: 0.015182186234817813\n",
      "Weak Learners= 500\n",
      "Misclassification Rate using Xgboost classifier is:  0.02120141342756184\n",
      "Cost using Xgboost classifier: 0.015182186234817813\n"
     ]
    }
   ],
   "source": [
    "weaklearners=[100,200,300,400,500]\n",
    "for i in range (5):\n",
    "    print(\"Weak Learners=\",weaklearners[i])\n",
    "    xg= XGBClassifier(n_estimators=weaklearners[i],eval_metric='mlogloss',use_label_encoder=False)\n",
    "    xg.fit(x_train, y_train)\n",
    "    predictionsxg= xg.predict(x_test)\n",
    "    msxg=np.mean(predictionsxg!=y_test)\n",
    "    print(\"Misclassification Rate using Xgboost classifier is: \",msxg)\n",
    "    co=confusion_matrix(y_test, predictionsxg)\n",
    "    print(\"Cost using Xgboost classifier:\",(co[0][1]+100*co[1][0])/6916)"
   ]
  },
  {
   "cell_type": "markdown",
   "id": "8e936739",
   "metadata": {},
   "source": [
    "## G) Comparison between the all Classifiers in the terms of Misclassification and Cost\n",
    " Misclassification rate:\n",
    " \n",
    " When Misclassification rate is high it is bad classifier\n",
    " \n",
    " When Misclassification rate is low it is good classifier\n",
    " \n",
    " Misclassification rate of \n",
    " \n",
    "                           Logistic Regression\n",
    " \n",
    "                           kNN nearest neighbors  with the number of neighbours:6,8,9 and 10\n",
    "                           \n",
    "                           SVM using poly kernel for degree 2 and 3 \n",
    "                           \n",
    " The above stated classifiers has the lowest misclassification rate as  0.106 \n",
    " \n",
    " The highest misclassification rate as 0.8374558303886925 - Sigmoid\n",
    " \n",
    " Weighted Cost:\n",
    " \n",
    " When Weighted Cost is high it is bad classifier\n",
    " \n",
    " When Weighted Cost is low  it is good classifier\n",
    " \n",
    " Weight Cost of KNN when number of neighbour 3 is 0.0005 is the best classifier\n",
    " \n",
    " Weight Cost of Sigmoid is 0.99 is the bad classifier\n",
    "\n",
    "With the keen comparision of the Cost and Misclassification of the Classifiers, We are able to conclude that, Sigmoid is the bad classifier and the KNneighbour with the number of neighbours 3 is the good classifier"
   ]
  }
 ],
 "metadata": {
  "kernelspec": {
   "display_name": "Python 3 (ipykernel)",
   "language": "python",
   "name": "python3"
  },
  "language_info": {
   "codemirror_mode": {
    "name": "ipython",
    "version": 3
   },
   "file_extension": ".py",
   "mimetype": "text/x-python",
   "name": "python",
   "nbconvert_exporter": "python",
   "pygments_lexer": "ipython3",
   "version": "3.9.7"
  }
 },
 "nbformat": 4,
 "nbformat_minor": 5
}
